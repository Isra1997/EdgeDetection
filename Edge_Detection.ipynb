{
  "nbformat": 4,
  "nbformat_minor": 0,
  "metadata": {
    "kernelspec": {
      "display_name": "Python 3",
      "language": "python",
      "name": "python3"
    },
    "language_info": {
      "codemirror_mode": {
        "name": "ipython",
        "version": 3
      },
      "file_extension": ".py",
      "mimetype": "text/x-python",
      "name": "python",
      "nbconvert_exporter": "python",
      "pygments_lexer": "ipython3",
      "version": "3.7.3"
    },
    "colab": {
      "name": "Edge_Detection.ipynb",
      "provenance": [],
      "include_colab_link": true
    }
  },
  "cells": [
    {
      "cell_type": "markdown",
      "metadata": {
        "id": "view-in-github",
        "colab_type": "text"
      },
      "source": [
        "<a href=\"https://colab.research.google.com/github/Isra1997/EdgeDetection/blob/master/Edge_Detection.ipynb\" target=\"_parent\"><img src=\"https://colab.research.google.com/assets/colab-badge.svg\" alt=\"Open In Colab\"/></a>"
      ]
    },
    {
      "cell_type": "code",
      "metadata": {
        "id": "0NjS3ekeddxT",
        "colab_type": "code",
        "colab": {}
      },
      "source": [
        "from PIL import  Image\n",
        "import numpy as np\n",
        "import matplotlib.pyplot as plt\n",
        "import math\n",
        "\n",
        "#function used to Calculate the LoG function\n",
        "def LoG_Function(X,Y,Sigma):\n",
        "    return (-1/(math.pi*Sigma**4))*(1-((X**2+Y**2)/(2*Sigma**2)))* math.exp(-1*((X**2+Y**2)/(2*Sigma**2)))\n",
        "\n",
        "#function used to Calculate the LoG mask\n",
        "def CalculateKernal(Sigma,size):\n",
        "    Result_Matrix=np.zeros([size,size])\n",
        "    for i in range(size):\n",
        "        for j in range(size):\n",
        "            Result_Matrix[i,j]=round(260*LoG_Function(i-(size-1)/2,j-(size-1)/2,Sigma))\n",
        "    return Result_Matrix\n",
        "\n",
        "\n",
        "def prewitt(image,Sigma,Threshold):\n",
        "    \n",
        "    width=image.shape[0]\n",
        "    height=image.shape[1]\n",
        "    \n",
        "    sumOfVertical=0\n",
        "    sumOfHorizontal=0\n",
        "    \n",
        "    #prewitt operators\n",
        "    H1=[[1,1,1],\n",
        "        [0,0,0],\n",
        "        [-1,-1,-1]]\n",
        "    \n",
        "    H2=[[-1,0,1],\n",
        "        [-1,0,1],\n",
        "        [-1,0,1]]\n",
        "    \n",
        "    #Intializing empty numpy array\n",
        "    Thresholding_array=np.zeros(image.shape)\n",
        "    magnitude_array=np.zeros(image.shape)\n",
        "    LoG_array=np.zeros(image.shape)\n",
        "    \n",
        "    #Getting the horizontal edges\n",
        "    for i in range(width-2):\n",
        "        for j in range(height-2):\n",
        "            sumOfHorizontal=np.sum(np.multiply(H1,image[i:i+3,j:j+3]))\n",
        "            sumOfVertical=np.sum(np.multiply(H2,image[i:i+3,j:j+3]))\n",
        "            magnitude_array[i,j]=math.sqrt(sumOfHorizontal**2+sumOfVertical**2)\n",
        "            \n",
        "    #Calculating the size of kernal  \n",
        "    size=(2*math.ceil(3*Sigma)+1)\n",
        "    #Calculating the LoG  kernal\n",
        "    LoG_kernal=CalculateKernal(Sigma,size)\n",
        "    \n",
        "    #Calculating the LoG image\n",
        "    for i in range(width-size-1):\n",
        "        for j in range(height-size-1):\n",
        "            LoG_array[i,j]=np.sum(np.multiply(LoG_kernal,image[i:i+size,j:j+size]))\n",
        "    \n",
        "            \n",
        "    #Thresholding the image\n",
        "    for i in range(width):\n",
        "        for j in range(height):\n",
        "            if((magnitude_array[i,j]>Threshold*255 and LoG_array[i,j]<=0)):\n",
        "                Thresholding_array[i,j]=1\n",
        "            else:\n",
        "                Thresholding_array[i,j]=0\n",
        "                \n",
        "    return Thresholding_array\n",
        "             \n",
        "\n",
        "# def main():\n",
        "#     openImg=Image.open(\"/Users/israragheb/Desktop/Assignment2CV/Cameraman.tif\").convert('L')  \n",
        "#     testing0=prewitt(np.array(openImg),2,0.1)\n",
        "#     testing1=prewitt(np.array(openImg),3,0.1)\n",
        "#     testing2=prewitt(np.array(openImg),4,0.1)\n",
        "\n",
        "#     plt.imshow(testing0,cmap='gray')\n",
        "#     plt.imshow(testing1,cmap='gray')\n",
        "#     plt.imshow(testing2,cmap='gray')\n",
        "\n",
        "    \n",
        "# if __name__==\"__main__\":\n",
        "#     main()\n",
        "    \n"
      ],
      "execution_count": 0,
      "outputs": []
    },
    {
      "cell_type": "code",
      "metadata": {
        "id": "zUaSjUJNddxa",
        "colab_type": "code",
        "colab": {}
      },
      "source": [
        "openImg=Image.open(\"Cameraman.tif\").convert('L')  "
      ],
      "execution_count": 0,
      "outputs": []
    },
    {
      "cell_type": "code",
      "metadata": {
        "id": "Cgx4_s-Dddxh",
        "colab_type": "code",
        "colab": {},
        "outputId": "9d0f6a66-ba74-49c2-93a6-161995a6e6e6"
      },
      "source": [
        "testing0=prewitt(np.array(openImg),2,0.1)\n",
        "plt.imshow(testing0,cmap='gray')\n",
        "plt.savefig(\"LoG_2.jpg\")"
      ],
      "execution_count": 0,
      "outputs": [
        {
          "output_type": "display_data",
          "data": {
            "image/png": "[encoded data removed]",
            "text/plain": [
              "<Figure size 432x288 with 1 Axes>"
            ]
          },
          "metadata": {
            "tags": [],
            "needs_background": "light"
          }
        }
      ]
    },
    {
      "cell_type": "code",
      "metadata": {
        "id": "TFJ_xJ4Wddxm",
        "colab_type": "code",
        "colab": {},
        "outputId": "c8c5cdb7-228e-4de3-f317-4ea627eba7dc"
      },
      "source": [
        "testing1=prewitt(np.array(openImg),3,0.1)\n",
        "plt.imshow(testing1,cmap='gray')\n",
        "plt.savefig(\"LoG_3.jpg\")"
      ],
      "execution_count": 0,
      "outputs": [
        {
          "output_type": "display_data",
          "data": {
            "image/png": "[encoded data removed]",
            "text/plain": [
              "<Figure size 432x288 with 1 Axes>"
            ]
          },
          "metadata": {
            "tags": [],
            "needs_background": "light"
          }
        }
      ]
    },
    {
      "cell_type": "code",
      "metadata": {
        "id": "KlrqXdbcddxq",
        "colab_type": "code",
        "colab": {},
        "outputId": "9dcb8e84-e31f-4948-9b97-e3f7ba820ce7"
      },
      "source": [
        "testing2=prewitt(np.array(openImg),4,0.1)\n",
        "plt.imshow(testing2,cmap='gray')\n",
        "plt.savefig(\"LoG_4.jpg\")"
      ],
      "execution_count": 0,
      "outputs": [
        {
          "output_type": "display_data",
          "data": {
            "image/png": "[encoded data removed]",
            "text/plain": [
              "<Figure size 432x288 with 1 Axes>"
            ]
          },
          "metadata": {
            "tags": [],
            "needs_background": "light"
          }
        }
      ]
    },
    {
      "cell_type": "code",
      "metadata": {
        "id": "1ZPsRYl8ddxu",
        "colab_type": "code",
        "colab": {}
      },
      "source": [
        ""
      ],
      "execution_count": 0,
      "outputs": []
    }
  ]
}